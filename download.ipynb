{
 "cells": [
  {
   "cell_type": "markdown",
   "metadata": {},
   "source": [
    "This file should only be used to contain the code used to download data by using the selenium \n",
    "\n",
    "and\n",
    "\n",
    "Upload data to minio"
   ]
  },
  {
   "cell_type": "markdown",
   "source": [
    "### Download file from drive"
   ],
   "metadata": {
    "collapsed": false
   }
  },
  {
   "cell_type": "code",
   "execution_count": 2,
   "metadata": {
    "ExecuteTime": {
     "end_time": "2024-03-27T08:54:48.767994Z",
     "start_time": "2024-03-27T08:54:40.246048Z"
    }
   },
   "outputs": [],
   "source": [
    "from selenium import webdriver\n",
    "import glob, os, time\n",
    "import chromedriver_binary  # Adds chromedriver binary to path\n",
    "from selenium.webdriver.common.by import By\n",
    "\n",
    "download_url = \"https://drive.google.com/drive/folders/1EImvKyUQ_iJCfd2h-Dxjn_sqPyDV5tFC?usp=sharing\"\n",
    "\n",
    "options = webdriver.ChromeOptions()\n",
    "\n",
    "# Set download path for data.zip\n",
    "prefs = {\"download.default_directory\": \"./\"}\n",
    "options.add_experimental_option(\"prefs\", prefs)\n",
    "options.add_argument(\"--headless\")\n",
    "# Must be full size screen to see download button\n",
    "options.add_argument(\"--window-size=1920,1080\")\n",
    "\n",
    "# Delete any file with .zip post-fix\n",
    "for f in glob.glob(\"data*.zip\"):\n",
    "    os.remove(f)\n",
    "\n",
    "driver = webdriver.Chrome(options=options)\n",
    "driver.get(download_url)\n",
    "# Wait for web fully loaded\n",
    "driver.implicitly_wait(1)\n",
    "\n",
    "download_link = driver.find_element(By.CSS_SELECTOR, \"div.akerZd\").find_element(By.CSS_SELECTOR, \"span\")\n",
    "download_link.click()\n",
    "\n",
    "# Wait for download complete for TIME_LIMIT second\n",
    "TIME_LIMIT = 30\n",
    "now = time.time()\n",
    "while True:\n",
    "    file = glob.glob(\"data.zip\")\n",
    "    if file:\n",
    "        break\n",
    "    else:\n",
    "        # Break if out of limit\n",
    "        if time.time() - now > TIME_LIMIT:\n",
    "            break\n",
    "        time.sleep(0.5)\n",
    "driver.close()\n"
   ]
  },
  {
   "cell_type": "code",
   "outputs": [
    {
     "ename": "NameError",
     "evalue": "name 'os' is not defined",
     "output_type": "error",
     "traceback": [
      "\u001B[1;31m---------------------------------------------------------------------------\u001B[0m",
      "\u001B[1;31mNameError\u001B[0m                                 Traceback (most recent call last)",
      "\u001B[1;32m<ipython-input-1-9c6d87d93392>\u001B[0m in \u001B[0;36m<module>\u001B[1;34m\u001B[0m\n\u001B[0;32m      1\u001B[0m \u001B[1;32mimport\u001B[0m \u001B[0mzipfile\u001B[0m\u001B[1;33m,\u001B[0m \u001B[0mshutil\u001B[0m\u001B[1;33m\u001B[0m\u001B[1;33m\u001B[0m\u001B[0m\n\u001B[1;32m----> 2\u001B[1;33m \u001B[1;32mif\u001B[0m \u001B[0mos\u001B[0m\u001B[1;33m.\u001B[0m\u001B[0mpath\u001B[0m\u001B[1;33m.\u001B[0m\u001B[0mexists\u001B[0m\u001B[1;33m(\u001B[0m\u001B[1;34m\"data-raw\"\u001B[0m\u001B[1;33m)\u001B[0m\u001B[1;33m:\u001B[0m\u001B[1;33m\u001B[0m\u001B[1;33m\u001B[0m\u001B[0m\n\u001B[0m\u001B[0;32m      3\u001B[0m     \u001B[0mshutil\u001B[0m\u001B[1;33m.\u001B[0m\u001B[0mrmtree\u001B[0m\u001B[1;33m(\u001B[0m\u001B[1;34m\"data-raw\"\u001B[0m\u001B[1;33m)\u001B[0m\u001B[1;33m\u001B[0m\u001B[1;33m\u001B[0m\u001B[0m\n\u001B[0;32m      4\u001B[0m \u001B[0mos\u001B[0m\u001B[1;33m.\u001B[0m\u001B[0mmkdir\u001B[0m\u001B[1;33m(\u001B[0m\u001B[1;34m\"./data-raw\"\u001B[0m\u001B[1;33m)\u001B[0m\u001B[1;33m\u001B[0m\u001B[1;33m\u001B[0m\u001B[0m\n\u001B[0;32m      5\u001B[0m \u001B[1;32mwith\u001B[0m \u001B[0mzipfile\u001B[0m\u001B[1;33m.\u001B[0m\u001B[0mZipFile\u001B[0m\u001B[1;33m(\u001B[0m\u001B[1;34m\"data.zip\"\u001B[0m\u001B[1;33m,\u001B[0m \u001B[1;34m'r'\u001B[0m\u001B[1;33m)\u001B[0m \u001B[1;32mas\u001B[0m \u001B[0mzip_ref\u001B[0m\u001B[1;33m:\u001B[0m\u001B[1;33m\u001B[0m\u001B[1;33m\u001B[0m\u001B[0m\n",
      "\u001B[1;31mNameError\u001B[0m: name 'os' is not defined"
     ]
    }
   ],
   "source": [
    "import zipfile, shutil\n",
    "if os.path.exists(\"data-raw\"):\n",
    "    shutil.rmtree(\"data-raw\")\n",
    "os.mkdir(\"./data-raw\")\n",
    "with zipfile.ZipFile(\"data.zip\", 'r') as zip_ref:\n",
    "    zip_ref.extractall(\"data-raw\")\n"
   ],
   "metadata": {
    "collapsed": false,
    "ExecuteTime": {
     "end_time": "2024-03-27T09:10:53.018581Z",
     "start_time": "2024-03-27T09:10:52.945071Z"
    }
   },
   "execution_count": 1
  },
  {
   "cell_type": "code",
   "execution_count": 4,
   "metadata": {
    "ExecuteTime": {
     "end_time": "2024-03-27T09:11:05.123324Z",
     "start_time": "2024-03-27T09:11:05.114320Z"
    }
   },
   "outputs": [],
   "source": [
    "# Define S3 storage\n",
    "obj_storage_access_key = os.getenv('MINIO_ACCESS_KEY')\n",
    "obj_storage_secret_key = os.getenv('MINIO_SECRET_KEY')\n",
    "obj_storage_endpoint = os.getenv('OBJ_STORAGE_ENDPOINT', 'http://minio:9000')\n"
   ]
  },
  {
   "cell_type": "markdown",
   "source": [],
   "metadata": {
    "collapsed": false
   }
  },
  {
   "cell_type": "code",
   "execution_count": 8,
   "metadata": {
    "ExecuteTime": {
     "end_time": "2024-03-27T09:12:55.050574Z",
     "start_time": "2024-03-27T09:12:54.968985Z"
    }
   },
   "outputs": [],
   "source": [
    "from ultils import upload_file_to_minio\n",
    "# Upload file to minio\n",
    "upload_file_to_minio('data-raw/data.json', 'data', 'data-raw/data.json', obj_storage_endpoint, obj_storage_access_key, obj_storage_secret_key)\n",
    "upload_file_to_minio('data-raw/data2.json', 'data', 'data-raw/data2.json', obj_storage_endpoint, obj_storage_access_key, obj_storage_secret_key)\n",
    "upload_file_to_minio('data-raw/data3.json', 'data', 'data-raw/data3.json', obj_storage_endpoint, obj_storage_access_key, obj_storage_secret_key)\n"
   ]
  },
  {
   "cell_type": "code",
   "outputs": [],
   "source": [],
   "metadata": {
    "collapsed": false,
    "ExecuteTime": {
     "start_time": "2024-03-27T08:55:12.087618Z"
    }
   }
  }
 ],
 "metadata": {
  "kernelspec": {
   "display_name": ".venv",
   "language": "python",
   "name": "python3"
  },
  "language_info": {
   "codemirror_mode": {
    "name": "ipython",
    "version": 3
   },
   "file_extension": ".py",
   "mimetype": "text/x-python",
   "name": "python",
   "nbconvert_exporter": "python",
   "pygments_lexer": "ipython3",
   "version": "3.12.2"
  }
 },
 "nbformat": 4,
 "nbformat_minor": 2
}
